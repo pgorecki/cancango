{
 "cells": [
  {
   "cell_type": "code",
   "execution_count": 1,
   "metadata": {},
   "outputs": [],
   "source": [
    "import os\n",
    "os.environ[\"DJANGO_ALLOW_ASYNC_UNSAFE\"] = \"true\""
   ]
  },
  {
   "cell_type": "code",
   "execution_count": 2,
   "metadata": {},
   "outputs": [],
   "source": [
    "from django.contrib.auth.models import User\n",
    "from cancan.ability import Ability\n",
    "from cancan.access_rules import AccessRules\n",
    "from core.models import Project, Membership"
   ]
  },
  {
   "cell_type": "markdown",
   "metadata": {},
   "source": [
    "Let's create some test data:"
   ]
  },
  {
   "cell_type": "code",
   "execution_count": 3,
   "metadata": {},
   "outputs": [],
   "source": [
    "# delete some old models\n",
    "User.objects.all().delete()\n",
    "Project.objects.all().delete()\n",
    "\n",
    "alice = User.objects.create(username=\"Alice\", email=\"alice@acme.com\")\n",
    "bob = User.objects.create(username=\"Bob\", email=\"bob@acme.com\")\n",
    "\n",
    "project1 = Project.objects.create(name=\"Alice's Project\", created_by=alice)\n",
    "project2 = Project.objects.create(name=\"Bob's project\", created_by=bob)\n",
    "\n",
    "project2.members.add(alice)"
   ]
  },
  {
   "cell_type": "markdown",
   "metadata": {},
   "source": [
    "Now we have `project1` created by Alice with no other members, and `project2` created by Bob with Alice as a member.\n",
    "\n",
    "Now let's declare user abilities function:"
   ]
  },
  {
   "cell_type": "code",
   "execution_count": 4,
   "metadata": {},
   "outputs": [],
   "source": [
    "def declare_abilities(user, rules):\n",
    "    # creators can view and edit projects\n",
    "    rules.allow(\"view\", Project, created_by=user)\n",
    "    rules.allow(\"edit\", Project, created_by=user)\n",
    "    # members can view projects\n",
    "    rules.allow(\"view\", Project, members=user)"
   ]
  },
  {
   "cell_type": "markdown",
   "metadata": {},
   "source": [
    "Now let's create the `ability` object for Alice. This is similar to what `can-can` middleware is doing under the hood."
   ]
  },
  {
   "cell_type": "code",
   "execution_count": 5,
   "metadata": {},
   "outputs": [],
   "source": [
    "access_rules = AccessRules(alice)\n",
    "declare_abilities(alice, access_rules)\n",
    "alice_ability = Ability(access_rules)"
   ]
  },
  {
   "cell_type": "code",
   "execution_count": 6,
   "metadata": {},
   "outputs": [
    {
     "data": {
      "text/plain": [
       "[True, True]"
      ]
     },
     "execution_count": 6,
     "metadata": {},
     "output_type": "execute_result"
    }
   ],
   "source": [
    "[alice_ability.can(\"view\", project1), alice_ability.can(\"view\", project2)]"
   ]
  },
  {
   "cell_type": "code",
   "execution_count": 7,
   "metadata": {},
   "outputs": [
    {
     "data": {
      "text/plain": [
       "[True, False]"
      ]
     },
     "execution_count": 7,
     "metadata": {},
     "output_type": "execute_result"
    }
   ],
   "source": [
    "[alice_ability.can(\"edit\", project1), alice_ability.can(\"edit\", project2)]"
   ]
  },
  {
   "cell_type": "markdown",
   "metadata": {},
   "source": [
    "Now let's create the ability object for Bob"
   ]
  },
  {
   "cell_type": "code",
   "execution_count": 8,
   "metadata": {},
   "outputs": [],
   "source": [
    "access_rules = AccessRules(bob)\n",
    "declare_abilities(bob, access_rules)\n",
    "bob_ability = Ability(access_rules)"
   ]
  },
  {
   "cell_type": "code",
   "execution_count": 9,
   "metadata": {},
   "outputs": [
    {
     "data": {
      "text/plain": [
       "[False, True]"
      ]
     },
     "execution_count": 9,
     "metadata": {},
     "output_type": "execute_result"
    }
   ],
   "source": [
    "[bob_ability.can(\"view\", project1), bob_ability.can(\"view\", project2)]"
   ]
  },
  {
   "cell_type": "code",
   "execution_count": 10,
   "metadata": {},
   "outputs": [
    {
     "data": {
      "text/plain": [
       "[False, True]"
      ]
     },
     "execution_count": 10,
     "metadata": {},
     "output_type": "execute_result"
    }
   ],
   "source": [
    "[bob_ability.can(\"edit\", project1), bob_ability.can(\"edit\", project2)]"
   ]
  },
  {
   "cell_type": "markdown",
   "metadata": {},
   "source": [
    "Let's see the queryset for `view` action for both users:"
   ]
  },
  {
   "cell_type": "code",
   "execution_count": 11,
   "metadata": {},
   "outputs": [
    {
     "name": "stdout",
     "output_type": "stream",
     "text": [
      "SELECT \"core_project\".\"id\", \"core_project\".\"name\", \"core_project\".\"description\", \"core_project\".\"created_by_id\" FROM \"core_project\" LEFT OUTER JOIN \"core_membership\" ON (\"core_project\".\"id\" = \"core_membership\".\"project_id\") WHERE (\"core_membership\".\"user_id\" = 14 OR \"core_project\".\"created_by_id\" = 14)\n"
     ]
    }
   ],
   "source": [
    "print(alice_ability.queryset_for(\"view\", Project).query)"
   ]
  },
  {
   "cell_type": "code",
   "execution_count": 12,
   "metadata": {},
   "outputs": [
    {
     "name": "stdout",
     "output_type": "stream",
     "text": [
      "SELECT \"core_project\".\"id\", \"core_project\".\"name\", \"core_project\".\"description\", \"core_project\".\"created_by_id\" FROM \"core_project\" LEFT OUTER JOIN \"core_membership\" ON (\"core_project\".\"id\" = \"core_membership\".\"project_id\") WHERE (\"core_membership\".\"user_id\" = 15 OR \"core_project\".\"created_by_id\" = 15)\n"
     ]
    }
   ],
   "source": [
    "print(bob_ability.queryset_for(\"view\", Project).query)"
   ]
  }
 ],
 "metadata": {
  "kernelspec": {
   "display_name": "Django Shell-Plus",
   "language": "python",
   "name": "django_extensions"
  },
  "language_info": {
   "codemirror_mode": {
    "name": "ipython",
    "version": 3
   },
   "file_extension": ".py",
   "mimetype": "text/x-python",
   "name": "python",
   "nbconvert_exporter": "python",
   "pygments_lexer": "ipython3",
   "version": "3.7.1"
  }
 },
 "nbformat": 4,
 "nbformat_minor": 4
}
